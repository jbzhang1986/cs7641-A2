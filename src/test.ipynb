{
 "cells": [
  {
   "cell_type": "code",
   "execution_count": 110,
   "metadata": {},
   "outputs": [],
   "source": [
    "from scipy.io import arff\n",
    "from sklearn.preprocessing import StandardScaler\n",
    "import pandas as pd\n",
    "import numpy as np\n",
    "from helpers import *\n",
    "\n",
    "# get file path\n",
    "sdir = 'data/raw'\n",
    "tdir = 'data/experiments'\n",
    "seismic_file = get_abspath('seismic-bumps.arff', sdir)\n",
    "\n",
    "# read arff file and convert to record array\n",
    "rawdata = arff.loadarff(seismic_file)\n",
    "df = pd.DataFrame(rawdata[0])\n",
    "\n",
    "# apply one-hot encoding to categorical features using Pandas get_dummies\n",
    "cat_cols = ['seismic', 'seismoacoustic', 'shift', 'ghazard']\n",
    "cats = df[cat_cols]\n",
    "onehot_cols = pd.get_dummies(cats, prefix=cat_cols)\n",
    "\n",
    "# replace 0s with -1s to improve NN performance\n",
    "onehot_cols.replace(to_replace=[0], value=[-1], inplace=True)\n",
    "\n",
    "# drop original categorical columns and append one-hot encoded columns\n",
    "df.drop(columns=cat_cols, inplace=True)\n",
    "df = pd.concat((onehot_cols, df), axis=1)\n",
    "\n",
    "# drop columns that have only 1 unique value (features add no information)\n",
    "for col in df.columns:\n",
    "    if len(np.unique(df[col])) == 1:\n",
    "        df.drop(columns=col, inplace=True)\n",
    "\n",
    "# cast class column as integer\n",
    "df['class'] = df['class'].astype(int)\n",
    "\n",
    "# split out X data and scale (Gaussian zero mean and unit variance)\n",
    "X = df.drop(columns='class').as_matrix()\n",
    "y = df['class'].astype(int).as_matrix()"
   ]
  }
 ],
 "metadata": {
  "kernelspec": {
   "display_name": "Python 2",
   "language": "python",
   "name": "python2"
  },
  "language_info": {
   "codemirror_mode": {
    "name": "ipython",
    "version": 2
   },
   "file_extension": ".py",
   "mimetype": "text/x-python",
   "name": "python",
   "nbconvert_exporter": "python",
   "pygments_lexer": "ipython2",
   "version": "2.7.12"
  }
 },
 "nbformat": 4,
 "nbformat_minor": 2
}
