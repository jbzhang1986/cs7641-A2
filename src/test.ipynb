{
 "cells": [
  {
   "cell_type": "code",
   "execution_count": 20,
   "metadata": {
    "collapsed": false
   },
   "outputs": [],
   "source": [
    "import numpy as np\n",
    "import pandas as pd\n",
    "import matplotlib\n",
    "matplotlib.use('agg')\n",
    "import matplotlib.pyplot as plt\n",
    "from helpers import get_abspath"
   ]
  },
  {
   "cell_type": "code",
   "execution_count": 44,
   "metadata": {
    "collapsed": false
   },
   "outputs": [],
   "source": [
    "oaName = 'RHC'\n",
    "pardir = 'results\\\\NN'\n",
    "resfile = 'results.csv'\n",
    "res = get_abspath('{}\\\\{}'.format(oaName, resfile), pardir)\n",
    "df = pd.read_csv(res)"
   ]
  },
  {
   "cell_type": "code",
   "execution_count": 45,
   "metadata": {
    "collapsed": false
   },
   "outputs": [],
   "source": [
    "# get columns\n",
    "iterations = df['iteration']\n",
    "MSE_train = df['MSE_train']\n",
    "MSE_test = df['MSE_test']\n",
    "MSE_valid =df['MSE_validation']\n",
    "\n",
    "# create error curve\n",
    "plt.figure(0)\n",
    "plt.plot(iterations, MSE_train, color='b', label='Training')\n",
    "plt.plot(iterations, MSE_test, color='r', label='Validation')\n",
    "plt.plot(iterations, MSE_valid, color='g', label='Test')\n",
    "plt.legend(loc='best')\n",
    "plt.grid(linestyle='dotted')\n",
    "plt.xlabel('Iterations')\n",
    "plt.ylabel('Mean squared error')\n",
    "# plt.ylim((0, 1))\n",
    "\n",
    "# save learning curve plot as PNG\n",
    "plotdir = 'plots\\\\NN'\n",
    "plot_tgt = '{}\\\\{}'.format(plotdir, oaName)\n",
    "plotpath = get_abspath('{}_error.png'.format(oaName), plot_tgt)\n",
    "plt.savefig(plotpath, bbox_inches='tight')\n",
    "plt.close()"
   ]
  }
 ],
 "metadata": {
  "anaconda-cloud": {},
  "kernelspec": {
   "display_name": "Python [conda root]",
   "language": "python",
   "name": "conda-root-py"
  },
  "language_info": {
   "codemirror_mode": {
    "name": "ipython",
    "version": 3
   },
   "file_extension": ".py",
   "mimetype": "text/x-python",
   "name": "python",
   "nbconvert_exporter": "python",
   "pygments_lexer": "ipython3",
   "version": "3.5.2"
  }
 },
 "nbformat": 4,
 "nbformat_minor": 2
}
